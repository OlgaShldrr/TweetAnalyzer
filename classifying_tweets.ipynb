{
 "cells": [
  {
   "cell_type": "code",
   "execution_count": 50,
   "metadata": {},
   "outputs": [],
   "source": [
    "import tweepy\n",
    "import re\n",
    "import pickle\n",
    "import os\n",
    "\n",
    "from tweepy import OAuthHandler\n",
    "          \n",
    "#Initializing the keys  #hidden in the environmental variables\n",
    "consumer_key     = os.getenv('consumer_key')  \n",
    "consumer_secret  = os.getenv('consumer_secret')\n",
    "access_token     = os.getenv('access_token')\n",
    "access_secret    = os.getenv('access_secret')\n"
   ]
  },
  {
   "cell_type": "code",
   "execution_count": 51,
   "metadata": {},
   "outputs": [],
   "source": [
    "#authenticating in Twitter\n",
    "\n",
    "auth = OAuthHandler(consumer_key, consumer_secret)\n",
    "auth.set_access_token(access_token, access_secret)\n",
    "args = ['facebook']\n",
    "api = tweepy.API(auth, timeout = 10)\n"
   ]
  },
  {
   "cell_type": "code",
   "execution_count": 52,
   "metadata": {},
   "outputs": [],
   "source": [
    "#fetch results\n",
    "\n",
    "list_tweets = []\n",
    "\n",
    "query = args[0]\n",
    "\n",
    "if len(args) == 1:\n",
    "    for status in tweepy.Cursor(api.search_tweets, q = query+\" -filter:retweets\", lang = 'en', result_type = 'recent').items(100):\n",
    "        list_tweets.append(status.text)"
   ]
  },
  {
   "cell_type": "code",
   "execution_count": 53,
   "metadata": {},
   "outputs": [
    {
     "name": "stdout",
     "output_type": "stream",
     "text": [
      "[\"@kindlejo_jo I'm going to need more proof and/or research from my Facebook group (the onion supremacists) and I als… https://t.co/gpKPkMF7HN\", \"It's quite apparent that LinkedIn and Facebook need to change their names, the first, gives a good boost online, of… https://t.co/wB1QkBAwfe\", '#businesstips #bitcoin #tumblr #twitter #facebook #instagram #dogecoin #socialmedia #tiktok #doge #deal #gift… https://t.co/nwaDJUFe16']\n"
     ]
    }
   ],
   "source": [
    "print(list_tweets[0:3])"
   ]
  },
  {
   "cell_type": "code",
   "execution_count": 54,
   "metadata": {},
   "outputs": [],
   "source": [
    "#Loading vectorizer and model\n",
    "with open('classifier.pickle', 'rb') as f:\n",
    "    classifier = pickle.load(f)\n",
    "with open('vectorizer.pickle', 'rb') as f:\n",
    "    vectorizer = pickle.load(f)\n",
    "    \n",
    "total_pos = 0\n",
    "total_neg = 0"
   ]
  },
  {
   "cell_type": "code",
   "execution_count": 55,
   "metadata": {},
   "outputs": [],
   "source": [
    "#preprocessing tweets\n",
    "\n",
    "for tweet in list_tweets:\n",
    "    tweet = re.sub(r'^http://t.co/[a-zA-Z0-9]*\\s', ' ', tweet)\n",
    "    tweet = re.sub(r'\\s+http://t.co/[a-zA-Z0-9]*\\s', ' ', tweet)\n",
    "    tweet = re.sub(r'\\s+http://t.co/[a-zA-Z0-9]*$', ' ', tweet)\n",
    "    tweet = tweet.lower()\n",
    "    tweet = re.sub(r\"that's\", \"that is\", tweet)\n",
    "    tweet = re.sub(r\"there's\", \"there is\", tweet)\n",
    "    tweet = re.sub(r\"what's\", \"what is\", tweet)\n",
    "    tweet = re.sub(r\"where's\", \"where is\", tweet)\n",
    "    tweet = re.sub(r\"it's\", \"it is\", tweet)\n",
    "    tweet = re.sub(r\"who's\", \"who is\", tweet)\n",
    "    tweet = re.sub(r\"she's\", \"she is\", tweet)\n",
    "    tweet = re.sub(r\"i'm\", \"i am\", tweet)\n",
    "    tweet = re.sub(r\"they're\", \"they are\", tweet)\n",
    "    tweet = re.sub(r\"who're\", \"who are\", tweet)\n",
    "    tweet = re.sub(r\"ain't\", \"am not\", tweet)\n",
    "    tweet = re.sub(r\"wouldn't\", \"would not\", tweet)\n",
    "    tweet = re.sub(r\"shouldn't\", \"should not\", tweet)\n",
    "    tweet = re.sub(r\"couldn't\", \"could not\", tweet)\n",
    "    tweet = re.sub(r\"can't\", \"can not\", tweet)\n",
    "    tweet = re.sub(r\"won't\", \"will not\", tweet)\n",
    "    tweet = re.sub(r\"\\W\", \" \", tweet)\n",
    "    tweet = re.sub(r\"\\d\", \" \", tweet)\n",
    "    tweet = re.sub(r'\\s+[a-z]\\s+', ' ', tweet)\n",
    "    tweet = re.sub(r'\\s+[a-z]$', ' ', tweet)\n",
    "    tweet = re.sub(r'^[a-z]\\s+', ' ', tweet)\n",
    "    tweet = re.sub(r'\\s+', ' ', tweet)\n",
    "    sent = classifier.predict(vectorizer.transform([ tweet]).toarray())\n",
    "    if sent[0] == 1:\n",
    "        total_pos += 1\n",
    "    else:\n",
    "        total_neg+= 1"
   ]
  },
  {
   "cell_type": "code",
   "execution_count": 56,
   "metadata": {},
   "outputs": [
    {
     "data": {
      "image/png": "[encoded data removed]",
      "text/plain": [
       "<Figure size 432x288 with 1 Axes>"
      ]
     },
     "metadata": {
      "needs_background": "light"
     },
     "output_type": "display_data"
    }
   ],
   "source": [
    "#plotting results\n",
    "import matplotlib.pyplot as plt\n",
    "import numpy as np\n",
    "objects = ['Positive', 'Negative']\n",
    "y_pos = np.arange(len(objects))\n",
    "\n",
    "plt.bar(y_pos, [total_pos, total_neg], alpha = 0.5)\n",
    "plt.xticks(y_pos, objects)\n",
    "plt.ylabel('Number')\n",
    "plt.title('Number of Positive and Negative Tweets')\n",
    "\n",
    "plt.show()"
   ]
  }
 ],
 "metadata": {
  "kernelspec": {
   "display_name": "Python 3",
   "language": "python",
   "name": "python3"
  },
  "language_info": {
   "codemirror_mode": {
    "name": "ipython",
    "version": 3
   },
   "file_extension": ".py",
   "mimetype": "text/x-python",
   "name": "python",
   "nbconvert_exporter": "python",
   "pygments_lexer": "ipython3",
   "version": "3.8.2"
  }
 },
 "nbformat": 4,
 "nbformat_minor": 4
}
